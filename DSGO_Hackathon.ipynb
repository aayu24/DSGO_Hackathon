{
 "cells": [
  {
   "cell_type": "markdown",
   "metadata": {},
   "source": [
    "### OCI Data Science - Useful Tips\n",
    "Everything stored in the <span style=\"background-color: #d5d8dc \">/home/datascience</span> folder is now stored on your block volume drive. The <span style=\"background-color: #d5d8dc \">ads-examples</span> folder has moved outside of your working space. Notebook examples are now accessible through a Launcher tab \"Notebook Examples\" button.\n",
    "<details>\n",
    "<summary><font size=\"2\">1. Check for Public Internet Access</font></summary>\n",
    "\n",
    "```python\n",
    "import requests\n",
    "response = requests.get(\"https://oracle.com\")\n",
    "assert response.status_code==200, \"Internet connection failed\"\n",
    "```\n",
    "</details>\n",
    "<details>\n",
    "<summary><font size=\"2\">2. OCI Configuration and Key Files Set Up</font></summary><p>Follow the instructions in the getting-started notebook. That notebook is accessible via the \"Getting Started\" Launcher tab button.</p>\n",
    "</details>\n",
    "<details>\n",
    "<summary><font size=\"2\">3. Helpful Documentation </font></summary>\n",
    "<ul><li><a href=\"https://docs.cloud.oracle.com/en-us/iaas/data-science/using/data-science.htm\">Data Science Service Documentation</a></li>\n",
    "<li><a href=\"https://docs.cloud.oracle.com/iaas/tools/ads-sdk/latest/index.html\">ADS documentation</a></li>\n",
    "</ul>\n",
    "</details>\n",
    "<details>\n",
    "<summary><font size=\"2\">4. Typical Cell Imports and Settings</font></summary>\n",
    "\n",
    "```python\n",
    "%load_ext autoreload\n",
    "%autoreload 2\n",
    "%matplotlib inline\n",
    "\n",
    "import warnings\n",
    "warnings.filterwarnings('ignore')\n",
    "\n",
    "import logging\n",
    "logging.basicConfig(format='%(levelname)s:%(message)s', level=logging.ERROR)\n",
    "\n",
    "import ads\n",
    "from ads.dataset.factory import DatasetFactory\n",
    "from ads.automl.provider import OracleAutoMLProvider\n",
    "from ads.automl.driver import AutoML\n",
    "from ads.evaluations.evaluator import ADSEvaluator\n",
    "from ads.common.data import MLData\n",
    "from ads.explanations.explainer import ADSExplainer\n",
    "from ads.explanations.mlx_global_explainer import MLXGlobalExplainer\n",
    "from ads.explanations.mlx_local_explainer import MLXLocalExplainer\n",
    "from ads.catalog.model import ModelCatalog\n",
    "from ads.common.model_artifact import ModelArtifact\n",
    "```\n",
    "</details>\n",
    "<details>\n",
    "<summary><font size=\"2\">5. Useful Environment Variables</font></summary>\n",
    "\n",
    "```python\n",
    "import os\n",
    "print(os.environ[\"NB_SESSION_COMPARTMENT_OCID\"])\n",
    "print(os.environ[\"PROJECT_OCID\"])\n",
    "print(os.environ[\"USER_OCID\"])\n",
    "print(os.environ[\"TENANCY_OCID\"])\n",
    "print(os.environ[\"NB_REGION\"])\n",
    "```\n",
    "</details>"
   ]
  },
  {
   "cell_type": "markdown",
   "metadata": {},
   "source": [
    "# "
   ]
  },
  {
   "cell_type": "markdown",
   "metadata": {},
   "source": [
    "# Environment "
   ]
  },
  {
   "cell_type": "code",
   "execution_count": 1,
   "metadata": {},
   "outputs": [],
   "source": [
    "import os\n",
    "import sys \n",
    "import pandas as pd\n",
    "import numpy as np\n",
    "import matplotlib.pyplot as plt\n",
    "%matplotlib inline"
   ]
  },
  {
   "cell_type": "code",
   "execution_count": 2,
   "metadata": {},
   "outputs": [],
   "source": [
    "train = pd.read_csv(\"./Data/air_status.csv\")"
   ]
  },
  {
   "cell_type": "code",
   "execution_count": 3,
   "metadata": {},
   "outputs": [],
   "source": [
    "train2 = pd.read_csv(\"./Data/air_status.csv\")"
   ]
  },
  {
   "cell_type": "code",
   "execution_count": 4,
   "metadata": {},
   "outputs": [
    {
     "data": {
      "text/html": [
       "<div>\n",
       "<style scoped>\n",
       "    .dataframe tbody tr th:only-of-type {\n",
       "        vertical-align: middle;\n",
       "    }\n",
       "\n",
       "    .dataframe tbody tr th {\n",
       "        vertical-align: top;\n",
       "    }\n",
       "\n",
       "    .dataframe thead th {\n",
       "        text-align: right;\n",
       "    }\n",
       "</style>\n",
       "<table border=\"1\" class=\"dataframe\">\n",
       "  <thead>\n",
       "    <tr style=\"text-align: right;\">\n",
       "      <th></th>\n",
       "      <th>SITE_ID</th>\n",
       "      <th>DATEON</th>\n",
       "      <th>DATEOFF</th>\n",
       "      <th>TSO4</th>\n",
       "      <th>TNO3</th>\n",
       "      <th>TNH4</th>\n",
       "      <th>Ca</th>\n",
       "      <th>Mg</th>\n",
       "      <th>Na</th>\n",
       "      <th>K</th>\n",
       "      <th>...</th>\n",
       "      <th>WSO2</th>\n",
       "      <th>TOTAL_SO2</th>\n",
       "      <th>TOTAL_NO3</th>\n",
       "      <th>FLOW_VOLUME</th>\n",
       "      <th>VALID_HOURS</th>\n",
       "      <th>COMMENT_CODES</th>\n",
       "      <th>STD2LOCAL_CF</th>\n",
       "      <th>TEMP_SOURCE</th>\n",
       "      <th>QA_CODE</th>\n",
       "      <th>UPDATE_DATE</th>\n",
       "    </tr>\n",
       "  </thead>\n",
       "  <tbody>\n",
       "    <tr>\n",
       "      <th>0</th>\n",
       "      <td>CON186</td>\n",
       "      <td>2003-06-17</td>\n",
       "      <td>2003-06-24</td>\n",
       "      <td>1.6460</td>\n",
       "      <td>2.6535</td>\n",
       "      <td>1.0740</td>\n",
       "      <td>0.1625</td>\n",
       "      <td>0.0440</td>\n",
       "      <td>0.1980</td>\n",
       "      <td>0.0609</td>\n",
       "      <td>...</td>\n",
       "      <td>0.3286</td>\n",
       "      <td>0.3544</td>\n",
       "      <td>6.0754</td>\n",
       "      <td>36.2704</td>\n",
       "      <td>168</td>\n",
       "      <td>NaN</td>\n",
       "      <td>1.196241</td>\n",
       "      <td>sa</td>\n",
       "      <td>3</td>\n",
       "      <td>2004-02-02</td>\n",
       "    </tr>\n",
       "    <tr>\n",
       "      <th>1</th>\n",
       "      <td>CON186</td>\n",
       "      <td>2003-06-24</td>\n",
       "      <td>2003-07-01</td>\n",
       "      <td>1.0356</td>\n",
       "      <td>0.6297</td>\n",
       "      <td>0.4035</td>\n",
       "      <td>0.2331</td>\n",
       "      <td>0.0394</td>\n",
       "      <td>0.1455</td>\n",
       "      <td>0.0444</td>\n",
       "      <td>...</td>\n",
       "      <td>0.4054</td>\n",
       "      <td>0.4466</td>\n",
       "      <td>4.0244</td>\n",
       "      <td>37.0314</td>\n",
       "      <td>167</td>\n",
       "      <td>NaN</td>\n",
       "      <td>1.227204</td>\n",
       "      <td>sa</td>\n",
       "      <td>3</td>\n",
       "      <td>2004-02-02</td>\n",
       "    </tr>\n",
       "  </tbody>\n",
       "</table>\n",
       "<p>2 rows × 23 columns</p>\n",
       "</div>"
      ],
      "text/plain": [
       "  SITE_ID      DATEON     DATEOFF    TSO4    TNO3    TNH4      Ca      Mg  \\\n",
       "0  CON186  2003-06-17  2003-06-24  1.6460  2.6535  1.0740  0.1625  0.0440   \n",
       "1  CON186  2003-06-24  2003-07-01  1.0356  0.6297  0.4035  0.2331  0.0394   \n",
       "\n",
       "       Na       K  ...    WSO2  TOTAL_SO2  TOTAL_NO3  FLOW_VOLUME  \\\n",
       "0  0.1980  0.0609  ...  0.3286     0.3544     6.0754      36.2704   \n",
       "1  0.1455  0.0444  ...  0.4054     0.4466     4.0244      37.0314   \n",
       "\n",
       "   VALID_HOURS  COMMENT_CODES  STD2LOCAL_CF  TEMP_SOURCE QA_CODE  UPDATE_DATE  \n",
       "0          168            NaN      1.196241           sa       3   2004-02-02  \n",
       "1          167            NaN      1.227204           sa       3   2004-02-02  \n",
       "\n",
       "[2 rows x 23 columns]"
      ]
     },
     "execution_count": 4,
     "metadata": {},
     "output_type": "execute_result"
    }
   ],
   "source": [
    "train.head(2)"
   ]
  },
  {
   "cell_type": "code",
   "execution_count": 5,
   "metadata": {},
   "outputs": [],
   "source": [
    "test = pd.read_csv(\"./Data/test.csv\")"
   ]
  },
  {
   "cell_type": "code",
   "execution_count": 6,
   "metadata": {},
   "outputs": [
    {
     "data": {
      "text/html": [
       "<div>\n",
       "<style scoped>\n",
       "    .dataframe tbody tr th:only-of-type {\n",
       "        vertical-align: middle;\n",
       "    }\n",
       "\n",
       "    .dataframe tbody tr th {\n",
       "        vertical-align: top;\n",
       "    }\n",
       "\n",
       "    .dataframe thead th {\n",
       "        text-align: right;\n",
       "    }\n",
       "</style>\n",
       "<table border=\"1\" class=\"dataframe\">\n",
       "  <thead>\n",
       "    <tr style=\"text-align: right;\">\n",
       "      <th></th>\n",
       "      <th>SITE_ID</th>\n",
       "      <th>DATEON</th>\n",
       "      <th>DATEOFF</th>\n",
       "      <th>TSO4</th>\n",
       "      <th>TNO3</th>\n",
       "      <th>TNH4</th>\n",
       "      <th>Ca</th>\n",
       "      <th>Mg</th>\n",
       "      <th>Na</th>\n",
       "      <th>K</th>\n",
       "      <th>...</th>\n",
       "      <th>NHNO3</th>\n",
       "      <th>WSO2</th>\n",
       "      <th>TOTAL_SO2</th>\n",
       "      <th>FLOW_VOLUME</th>\n",
       "      <th>VALID_HOURS</th>\n",
       "      <th>COMMENT_CODES</th>\n",
       "      <th>STD2LOCAL_CF</th>\n",
       "      <th>TEMP_SOURCE</th>\n",
       "      <th>QA_CODE</th>\n",
       "      <th>UPDATE_DATE</th>\n",
       "    </tr>\n",
       "  </thead>\n",
       "  <tbody>\n",
       "    <tr>\n",
       "      <th>0</th>\n",
       "      <td>CON186</td>\n",
       "      <td>2003-08-26</td>\n",
       "      <td>2003-09-02</td>\n",
       "      <td>2.0949</td>\n",
       "      <td>1.3105</td>\n",
       "      <td>0.6974</td>\n",
       "      <td>0.321</td>\n",
       "      <td>0.0709</td>\n",
       "      <td>0.2831</td>\n",
       "      <td>0.0703</td>\n",
       "      <td>...</td>\n",
       "      <td>6.0538</td>\n",
       "      <td>0.7150</td>\n",
       "      <td>0.8077</td>\n",
       "      <td>36.8374</td>\n",
       "      <td>166</td>\n",
       "      <td>T4</td>\n",
       "      <td>1.22875</td>\n",
       "      <td>sa</td>\n",
       "      <td>3</td>\n",
       "      <td>2004-02-02</td>\n",
       "    </tr>\n",
       "    <tr>\n",
       "      <th>1</th>\n",
       "      <td>CON186</td>\n",
       "      <td>2004-04-27</td>\n",
       "      <td>2004-05-11</td>\n",
       "      <td>1.5278</td>\n",
       "      <td>1.8541</td>\n",
       "      <td>0.3870</td>\n",
       "      <td>0.501</td>\n",
       "      <td>0.1011</td>\n",
       "      <td>0.3582</td>\n",
       "      <td>0.0891</td>\n",
       "      <td>...</td>\n",
       "      <td>2.1959</td>\n",
       "      <td>0.4824</td>\n",
       "      <td>0.5314</td>\n",
       "      <td>72.5240</td>\n",
       "      <td>327</td>\n",
       "      <td>G12</td>\n",
       "      <td>1.20363</td>\n",
       "      <td>sa</td>\n",
       "      <td>3</td>\n",
       "      <td>2008-07-18</td>\n",
       "    </tr>\n",
       "  </tbody>\n",
       "</table>\n",
       "<p>2 rows × 22 columns</p>\n",
       "</div>"
      ],
      "text/plain": [
       "  SITE_ID      DATEON     DATEOFF    TSO4    TNO3    TNH4     Ca      Mg  \\\n",
       "0  CON186  2003-08-26  2003-09-02  2.0949  1.3105  0.6974  0.321  0.0709   \n",
       "1  CON186  2004-04-27  2004-05-11  1.5278  1.8541  0.3870  0.501  0.1011   \n",
       "\n",
       "       Na       K  ...   NHNO3    WSO2  TOTAL_SO2  FLOW_VOLUME  VALID_HOURS  \\\n",
       "0  0.2831  0.0703  ...  6.0538  0.7150     0.8077      36.8374          166   \n",
       "1  0.3582  0.0891  ...  2.1959  0.4824     0.5314      72.5240          327   \n",
       "\n",
       "   COMMENT_CODES  STD2LOCAL_CF TEMP_SOURCE  QA_CODE UPDATE_DATE  \n",
       "0             T4       1.22875          sa        3  2004-02-02  \n",
       "1            G12       1.20363          sa        3  2008-07-18  \n",
       "\n",
       "[2 rows x 22 columns]"
      ]
     },
     "execution_count": 6,
     "metadata": {},
     "output_type": "execute_result"
    }
   ],
   "source": [
    "test.head(2)"
   ]
  },
  {
   "cell_type": "code",
   "execution_count": 16,
   "metadata": {},
   "outputs": [],
   "source": [
    "df=pd.concat([train,test],axis=0,sort=False)"
   ]
  },
  {
   "cell_type": "code",
   "execution_count": 17,
   "metadata": {},
   "outputs": [],
   "source": [
    "cat_cols = ['SITE_ID','QA_CODE','TEMP_SOURCE']"
   ]
  },
  {
   "cell_type": "code",
   "execution_count": 18,
   "metadata": {},
   "outputs": [],
   "source": [
    "TARGET_COL = 'TOTAL_NO3'"
   ]
  },
  {
   "cell_type": "code",
   "execution_count": 10,
   "metadata": {},
   "outputs": [],
   "source": [
    "codes = pd.read_csv(\"./Data/codes.csv\")\n",
    "site = pd.read_csv(\"./Data/site.csv\")\n",
    "dd = pd.read_csv(\"./Data/data_dictionary.csv\")"
   ]
  },
  {
   "cell_type": "code",
   "execution_count": 11,
   "metadata": {},
   "outputs": [
    {
     "data": {
      "text/html": [
       "<div>\n",
       "<style scoped>\n",
       "    .dataframe tbody tr th:only-of-type {\n",
       "        vertical-align: middle;\n",
       "    }\n",
       "\n",
       "    .dataframe tbody tr th {\n",
       "        vertical-align: top;\n",
       "    }\n",
       "\n",
       "    .dataframe thead th {\n",
       "        text-align: right;\n",
       "    }\n",
       "</style>\n",
       "<table border=\"1\" class=\"dataframe\">\n",
       "  <thead>\n",
       "    <tr style=\"text-align: right;\">\n",
       "      <th></th>\n",
       "      <th>SITE_ID</th>\n",
       "      <th>location</th>\n",
       "    </tr>\n",
       "  </thead>\n",
       "  <tbody>\n",
       "    <tr>\n",
       "      <th>0</th>\n",
       "      <td>PIN414</td>\n",
       "      <td>Pinnacles NM</td>\n",
       "    </tr>\n",
       "    <tr>\n",
       "      <th>1</th>\n",
       "      <td>SEK430</td>\n",
       "      <td>Sequoia NP - Ash Mountain</td>\n",
       "    </tr>\n",
       "    <tr>\n",
       "      <th>2</th>\n",
       "      <td>DEV412</td>\n",
       "      <td>Death Valley NM</td>\n",
       "    </tr>\n",
       "    <tr>\n",
       "      <th>3</th>\n",
       "      <td>SEK402</td>\n",
       "      <td>Sequoia NP - Lookout Pt</td>\n",
       "    </tr>\n",
       "    <tr>\n",
       "      <th>4</th>\n",
       "      <td>JOT403</td>\n",
       "      <td>Joshua Tree NP</td>\n",
       "    </tr>\n",
       "    <tr>\n",
       "      <th>5</th>\n",
       "      <td>YOS404</td>\n",
       "      <td>Yosemite NP - Turtleback Dome</td>\n",
       "    </tr>\n",
       "    <tr>\n",
       "      <th>6</th>\n",
       "      <td>CON186</td>\n",
       "      <td>Converse Station</td>\n",
       "    </tr>\n",
       "    <tr>\n",
       "      <th>7</th>\n",
       "      <td>LAV410</td>\n",
       "      <td>Lassen Volcanic NP</td>\n",
       "    </tr>\n",
       "  </tbody>\n",
       "</table>\n",
       "</div>"
      ],
      "text/plain": [
       "  SITE_ID                        location\n",
       "0  PIN414                    Pinnacles NM\n",
       "1  SEK430       Sequoia NP - Ash Mountain\n",
       "2  DEV412                 Death Valley NM\n",
       "3  SEK402         Sequoia NP - Lookout Pt\n",
       "4  JOT403                  Joshua Tree NP\n",
       "5  YOS404   Yosemite NP - Turtleback Dome\n",
       "6  CON186                Converse Station\n",
       "7  LAV410              Lassen Volcanic NP"
      ]
     },
     "execution_count": 11,
     "metadata": {},
     "output_type": "execute_result"
    }
   ],
   "source": [
    "site"
   ]
  },
  {
   "cell_type": "code",
   "execution_count": 11,
   "metadata": {},
   "outputs": [
    {
     "data": {
      "text/html": [
       "<div>\n",
       "<style scoped>\n",
       "    .dataframe tbody tr th:only-of-type {\n",
       "        vertical-align: middle;\n",
       "    }\n",
       "\n",
       "    .dataframe tbody tr th {\n",
       "        vertical-align: top;\n",
       "    }\n",
       "\n",
       "    .dataframe thead th {\n",
       "        text-align: right;\n",
       "    }\n",
       "</style>\n",
       "<table border=\"1\" class=\"dataframe\">\n",
       "  <thead>\n",
       "    <tr style=\"text-align: right;\">\n",
       "      <th></th>\n",
       "      <th>COLUMN_NAME</th>\n",
       "      <th>UNIT</th>\n",
       "      <th>DATA_TYPE</th>\n",
       "      <th>DESCRIPTION</th>\n",
       "    </tr>\n",
       "  </thead>\n",
       "  <tbody>\n",
       "    <tr>\n",
       "      <th>0</th>\n",
       "      <td>SITE_ID</td>\n",
       "      <td>NaN</td>\n",
       "      <td>CHAR</td>\n",
       "      <td>Site identification code. See the file site.cs...</td>\n",
       "    </tr>\n",
       "    <tr>\n",
       "      <th>1</th>\n",
       "      <td>DATEON</td>\n",
       "      <td>NaN</td>\n",
       "      <td>DATE</td>\n",
       "      <td>Date the sample collection began, Local Standa...</td>\n",
       "    </tr>\n",
       "    <tr>\n",
       "      <th>2</th>\n",
       "      <td>DATEOFF</td>\n",
       "      <td>NaN</td>\n",
       "      <td>DATE</td>\n",
       "      <td>Date the sample collection ended, Local Standa...</td>\n",
       "    </tr>\n",
       "    <tr>\n",
       "      <th>3</th>\n",
       "      <td>TSO4</td>\n",
       "      <td>ug/m^3</td>\n",
       "      <td>NUMBER</td>\n",
       "      <td>Sulfate (SO4) concentration from Teflon filter...</td>\n",
       "    </tr>\n",
       "    <tr>\n",
       "      <th>4</th>\n",
       "      <td>TNO3</td>\n",
       "      <td>ug/m^3</td>\n",
       "      <td>NUMBER</td>\n",
       "      <td>Nitrate (NO3) concentration from Teflon filter...</td>\n",
       "    </tr>\n",
       "  </tbody>\n",
       "</table>\n",
       "</div>"
      ],
      "text/plain": [
       "  COLUMN_NAME    UNIT DATA_TYPE  \\\n",
       "0     SITE_ID     NaN      CHAR   \n",
       "1      DATEON     NaN      DATE   \n",
       "2     DATEOFF     NaN      DATE   \n",
       "3        TSO4  ug/m^3    NUMBER   \n",
       "4        TNO3  ug/m^3    NUMBER   \n",
       "\n",
       "                                         DESCRIPTION  \n",
       "0  Site identification code. See the file site.cs...  \n",
       "1  Date the sample collection began, Local Standa...  \n",
       "2  Date the sample collection ended, Local Standa...  \n",
       "3  Sulfate (SO4) concentration from Teflon filter...  \n",
       "4  Nitrate (NO3) concentration from Teflon filter...  "
      ]
     },
     "execution_count": 11,
     "metadata": {},
     "output_type": "execute_result"
    }
   ],
   "source": [
    "dd.head(5)"
   ]
  },
  {
   "cell_type": "code",
   "execution_count": 12,
   "metadata": {},
   "outputs": [
    {
     "data": {
      "text/html": [
       "<div>\n",
       "<style scoped>\n",
       "    .dataframe tbody tr th:only-of-type {\n",
       "        vertical-align: middle;\n",
       "    }\n",
       "\n",
       "    .dataframe tbody tr th {\n",
       "        vertical-align: top;\n",
       "    }\n",
       "\n",
       "    .dataframe thead th {\n",
       "        text-align: right;\n",
       "    }\n",
       "</style>\n",
       "<table border=\"1\" class=\"dataframe\">\n",
       "  <thead>\n",
       "    <tr style=\"text-align: right;\">\n",
       "      <th></th>\n",
       "      <th>COLUMN_NAME</th>\n",
       "      <th>CODE</th>\n",
       "      <th>DESCRIPTION</th>\n",
       "      <th>VALID</th>\n",
       "    </tr>\n",
       "  </thead>\n",
       "  <tbody>\n",
       "    <tr>\n",
       "      <th>0</th>\n",
       "      <td>%_F</td>\n",
       "      <td>!</td>\n",
       "      <td>X and U apply</td>\n",
       "      <td>V</td>\n",
       "    </tr>\n",
       "    <tr>\n",
       "      <th>1</th>\n",
       "      <td>%_F</td>\n",
       "      <td>#</td>\n",
       "      <td>Both U and L flags apply</td>\n",
       "      <td>V</td>\n",
       "    </tr>\n",
       "  </tbody>\n",
       "</table>\n",
       "</div>"
      ],
      "text/plain": [
       "  COLUMN_NAME CODE               DESCRIPTION VALID\n",
       "0         %_F    !             X and U apply     V\n",
       "1         %_F    #  Both U and L flags apply     V"
      ]
     },
     "execution_count": 12,
     "metadata": {},
     "output_type": "execute_result"
    }
   ],
   "source": [
    "codes.head(2)"
   ]
  },
  {
   "cell_type": "code",
   "execution_count": 19,
   "metadata": {},
   "outputs": [
    {
     "data": {
      "text/html": [
       "<div>\n",
       "<style scoped>\n",
       "    .dataframe tbody tr th:only-of-type {\n",
       "        vertical-align: middle;\n",
       "    }\n",
       "\n",
       "    .dataframe tbody tr th {\n",
       "        vertical-align: top;\n",
       "    }\n",
       "\n",
       "    .dataframe thead th {\n",
       "        text-align: right;\n",
       "    }\n",
       "</style>\n",
       "<table border=\"1\" class=\"dataframe\">\n",
       "  <thead>\n",
       "    <tr style=\"text-align: right;\">\n",
       "      <th></th>\n",
       "      <th>SITE_ID</th>\n",
       "      <th>DATEON</th>\n",
       "      <th>DATEOFF</th>\n",
       "      <th>TSO4</th>\n",
       "      <th>TNO3</th>\n",
       "      <th>TNH4</th>\n",
       "      <th>Ca</th>\n",
       "      <th>Mg</th>\n",
       "      <th>Na</th>\n",
       "      <th>K</th>\n",
       "      <th>...</th>\n",
       "      <th>WSO2</th>\n",
       "      <th>TOTAL_SO2</th>\n",
       "      <th>TOTAL_NO3</th>\n",
       "      <th>FLOW_VOLUME</th>\n",
       "      <th>VALID_HOURS</th>\n",
       "      <th>COMMENT_CODES</th>\n",
       "      <th>STD2LOCAL_CF</th>\n",
       "      <th>TEMP_SOURCE</th>\n",
       "      <th>QA_CODE</th>\n",
       "      <th>UPDATE_DATE</th>\n",
       "    </tr>\n",
       "  </thead>\n",
       "  <tbody>\n",
       "    <tr>\n",
       "      <th>0</th>\n",
       "      <td>CON186</td>\n",
       "      <td>2003-06-17</td>\n",
       "      <td>2003-06-24</td>\n",
       "      <td>1.6460</td>\n",
       "      <td>2.6535</td>\n",
       "      <td>1.0740</td>\n",
       "      <td>0.1625</td>\n",
       "      <td>0.0440</td>\n",
       "      <td>0.1980</td>\n",
       "      <td>0.0609</td>\n",
       "      <td>...</td>\n",
       "      <td>0.3286</td>\n",
       "      <td>0.3544</td>\n",
       "      <td>6.0754</td>\n",
       "      <td>36.2704</td>\n",
       "      <td>168</td>\n",
       "      <td>NaN</td>\n",
       "      <td>1.196241</td>\n",
       "      <td>sa</td>\n",
       "      <td>3</td>\n",
       "      <td>2004-02-02</td>\n",
       "    </tr>\n",
       "    <tr>\n",
       "      <th>1</th>\n",
       "      <td>CON186</td>\n",
       "      <td>2003-06-24</td>\n",
       "      <td>2003-07-01</td>\n",
       "      <td>1.0356</td>\n",
       "      <td>0.6297</td>\n",
       "      <td>0.4035</td>\n",
       "      <td>0.2331</td>\n",
       "      <td>0.0394</td>\n",
       "      <td>0.1455</td>\n",
       "      <td>0.0444</td>\n",
       "      <td>...</td>\n",
       "      <td>0.4054</td>\n",
       "      <td>0.4466</td>\n",
       "      <td>4.0244</td>\n",
       "      <td>37.0314</td>\n",
       "      <td>167</td>\n",
       "      <td>NaN</td>\n",
       "      <td>1.227204</td>\n",
       "      <td>sa</td>\n",
       "      <td>3</td>\n",
       "      <td>2004-02-02</td>\n",
       "    </tr>\n",
       "    <tr>\n",
       "      <th>2</th>\n",
       "      <td>CON186</td>\n",
       "      <td>2003-07-01</td>\n",
       "      <td>2003-07-08</td>\n",
       "      <td>1.5335</td>\n",
       "      <td>1.2570</td>\n",
       "      <td>0.4836</td>\n",
       "      <td>0.2185</td>\n",
       "      <td>0.0759</td>\n",
       "      <td>0.3440</td>\n",
       "      <td>0.1697</td>\n",
       "      <td>...</td>\n",
       "      <td>0.5119</td>\n",
       "      <td>0.5684</td>\n",
       "      <td>5.7479</td>\n",
       "      <td>37.9842</td>\n",
       "      <td>171</td>\n",
       "      <td>NaN</td>\n",
       "      <td>1.228530</td>\n",
       "      <td>sa</td>\n",
       "      <td>3</td>\n",
       "      <td>2004-02-02</td>\n",
       "    </tr>\n",
       "  </tbody>\n",
       "</table>\n",
       "<p>3 rows × 23 columns</p>\n",
       "</div>"
      ],
      "text/plain": [
       "  SITE_ID      DATEON     DATEOFF    TSO4    TNO3    TNH4      Ca      Mg  \\\n",
       "0  CON186  2003-06-17  2003-06-24  1.6460  2.6535  1.0740  0.1625  0.0440   \n",
       "1  CON186  2003-06-24  2003-07-01  1.0356  0.6297  0.4035  0.2331  0.0394   \n",
       "2  CON186  2003-07-01  2003-07-08  1.5335  1.2570  0.4836  0.2185  0.0759   \n",
       "\n",
       "       Na       K  ...    WSO2  TOTAL_SO2  TOTAL_NO3  FLOW_VOLUME  \\\n",
       "0  0.1980  0.0609  ...  0.3286     0.3544     6.0754      36.2704   \n",
       "1  0.1455  0.0444  ...  0.4054     0.4466     4.0244      37.0314   \n",
       "2  0.3440  0.1697  ...  0.5119     0.5684     5.7479      37.9842   \n",
       "\n",
       "   VALID_HOURS  COMMENT_CODES  STD2LOCAL_CF  TEMP_SOURCE QA_CODE  UPDATE_DATE  \n",
       "0          168            NaN      1.196241           sa       3   2004-02-02  \n",
       "1          167            NaN      1.227204           sa       3   2004-02-02  \n",
       "2          171            NaN      1.228530           sa       3   2004-02-02  \n",
       "\n",
       "[3 rows x 23 columns]"
      ]
     },
     "execution_count": 19,
     "metadata": {},
     "output_type": "execute_result"
    }
   ],
   "source": [
    "df.head(3)"
   ]
  },
  {
   "cell_type": "code",
   "execution_count": 20,
   "metadata": {},
   "outputs": [],
   "source": [
    "df=pd.get_dummies(df,columns=cat_cols)"
   ]
  },
  {
   "cell_type": "code",
   "execution_count": 21,
   "metadata": {},
   "outputs": [
    {
     "name": "stdout",
     "output_type": "stream",
     "text": [
      "<class 'pandas.core.frame.DataFrame'>\n",
      "Int64Index: 7155 entries, 0 to 995\n",
      "Data columns (total 34 columns):\n",
      "DATEON            7155 non-null object\n",
      "DATEOFF           7155 non-null object\n",
      "TSO4              7155 non-null float64\n",
      "TNO3              7155 non-null float64\n",
      "TNH4              7155 non-null float64\n",
      "Ca                5932 non-null float64\n",
      "Mg                5932 non-null float64\n",
      "Na                5932 non-null float64\n",
      "K                 5928 non-null float64\n",
      "Cl                4858 non-null float64\n",
      "NSO4              7155 non-null float64\n",
      "NHNO3             7155 non-null float64\n",
      "WSO2              7155 non-null float64\n",
      "TOTAL_SO2         7155 non-null float64\n",
      "TOTAL_NO3         6159 non-null float64\n",
      "FLOW_VOLUME       7155 non-null float64\n",
      "VALID_HOURS       7155 non-null int64\n",
      "COMMENT_CODES     2313 non-null object\n",
      "STD2LOCAL_CF      7155 non-null float64\n",
      "UPDATE_DATE       7155 non-null object\n",
      "SITE_ID_CON186    7155 non-null uint8\n",
      "SITE_ID_DEV412    7155 non-null uint8\n",
      "SITE_ID_JOT403    7155 non-null uint8\n",
      "SITE_ID_LAV410    7155 non-null uint8\n",
      "SITE_ID_PIN414    7155 non-null uint8\n",
      "SITE_ID_SEK402    7155 non-null uint8\n",
      "SITE_ID_SEK430    7155 non-null uint8\n",
      "SITE_ID_YOS404    7155 non-null uint8\n",
      "QA_CODE_1         7155 non-null uint8\n",
      "QA_CODE_3         7155 non-null uint8\n",
      "TEMP_SOURCE_mo    7155 non-null uint8\n",
      "TEMP_SOURCE_sa    7155 non-null uint8\n",
      "TEMP_SOURCE_se    7155 non-null uint8\n",
      "TEMP_SOURCE_wk    7155 non-null uint8\n",
      "dtypes: float64(15), int64(1), object(4), uint8(14)\n",
      "memory usage: 1.2+ MB\n"
     ]
    }
   ],
   "source": [
    "df.info()"
   ]
  },
  {
   "cell_type": "code",
   "execution_count": 22,
   "metadata": {},
   "outputs": [],
   "source": [
    "import seaborn as sns"
   ]
  },
  {
   "cell_type": "code",
   "execution_count": 23,
   "metadata": {},
   "outputs": [
    {
     "data": {
      "text/plain": [
       "<matplotlib.axes._subplots.AxesSubplot at 0x7f97f94f36d8>"
      ]
     },
     "execution_count": 23,
     "metadata": {},
     "output_type": "execute_result"
    },
    {
     "data": {
      "image/png": "[encoded data removed]",
      "text/plain": [
       "<Figure size 432x288 with 1 Axes>"
      ]
     },
     "metadata": {
      "needs_background": "light"
     },
     "output_type": "display_data"
    }
   ],
   "source": [
    "df[TARGET_COL].plot(kind='hist')"
   ]
  },
  {
   "cell_type": "code",
   "execution_count": 24,
   "metadata": {},
   "outputs": [
    {
     "data": {
      "text/plain": [
       "<matplotlib.axes._subplots.AxesSubplot at 0x7f97f5cc9f98>"
      ]
     },
     "execution_count": 24,
     "metadata": {},
     "output_type": "execute_result"
    },
    {
     "data": {
      "image/png": "[encoded data removed]",
      "text/plain": [
       "<Figure size 432x288 with 1 Axes>"
      ]
     },
     "metadata": {
      "needs_background": "light"
     },
     "output_type": "display_data"
    }
   ],
   "source": [
    "np.log1p(train[TARGET_COL]).plot(kind='density')"
   ]
  },
  {
   "cell_type": "code",
   "execution_count": 25,
   "metadata": {},
   "outputs": [],
   "source": [
    "df[TARGET_COL]=np.log1p(df[TARGET_COL])"
   ]
  },
  {
   "cell_type": "code",
   "execution_count": 26,
   "metadata": {},
   "outputs": [],
   "source": [
    "df['DATEON']=pd.to_datetime(df['DATEON'])\n",
    "df['DATEOFF']=pd.to_datetime(df['DATEOFF'])"
   ]
  },
  {
   "cell_type": "code",
   "execution_count": 27,
   "metadata": {},
   "outputs": [],
   "source": [
    "df['week']=df['DATEON'].dt.week\n",
    "df['mnth']=df['DATEON'].dt.month"
   ]
  },
  {
   "cell_type": "code",
   "execution_count": 28,
   "metadata": {},
   "outputs": [],
   "source": [
    "# train['week'].value_counts()[:10].plot(kind='bar')"
   ]
  },
  {
   "cell_type": "code",
   "execution_count": 29,
   "metadata": {},
   "outputs": [
    {
     "data": {
      "text/plain": [
       "4842"
      ]
     },
     "execution_count": 29,
     "metadata": {},
     "output_type": "execute_result"
    }
   ],
   "source": [
    "df['COMMENT_CODES'].isnull().sum()"
   ]
  },
  {
   "cell_type": "code",
   "execution_count": 67,
   "metadata": {},
   "outputs": [],
   "source": [
    "# num_cols = [col for col in train.select_dtypes(include=['float64','int64']).columns if col not in [TARGET_COL]]\n",
    "# num_cols"
   ]
  },
  {
   "cell_type": "code",
   "execution_count": 30,
   "metadata": {},
   "outputs": [],
   "source": [
    "# train['COMMENT_CODES'].value_counts()[:5].plot(kind='bar') "
   ]
  },
  {
   "cell_type": "code",
   "execution_count": 31,
   "metadata": {},
   "outputs": [],
   "source": [
    "# def encode(x):\n",
    "#     if x in ['T04','12']:\n",
    "#         return x\n",
    "#     else:\n",
    "#         return \"OT\""
   ]
  },
  {
   "cell_type": "code",
   "execution_count": 32,
   "metadata": {},
   "outputs": [],
   "source": [
    "# train['comment_cat'] = train['COMMENT_CODES'].apply(lambda x: encode(x))"
   ]
  },
  {
   "cell_type": "code",
   "execution_count": 33,
   "metadata": {},
   "outputs": [],
   "source": [
    "df['code_miss'] = np.where(df['COMMENT_CODES'].isnull(), 1, 0)"
   ]
  },
  {
   "cell_type": "code",
   "execution_count": 34,
   "metadata": {},
   "outputs": [
    {
     "data": {
      "text/plain": [
       "1    4842\n",
       "0    2313\n",
       "Name: code_miss, dtype: int64"
      ]
     },
     "execution_count": 34,
     "metadata": {},
     "output_type": "execute_result"
    }
   ],
   "source": [
    "df['code_miss'].value_counts()"
   ]
  },
  {
   "cell_type": "code",
   "execution_count": 35,
   "metadata": {},
   "outputs": [],
   "source": [
    "# train = pd.get_dummies(train,columns=['comment_cat'])"
   ]
  },
  {
   "cell_type": "code",
   "execution_count": 36,
   "metadata": {},
   "outputs": [],
   "source": [
    "# test[num_cols].isnull().sum()"
   ]
  },
  {
   "cell_type": "code",
   "execution_count": null,
   "metadata": {},
   "outputs": [],
   "source": []
  },
  {
   "cell_type": "code",
   "execution_count": 37,
   "metadata": {},
   "outputs": [
    {
     "data": {
      "text/plain": [
       "['TSO4',\n",
       " 'TNO3',\n",
       " 'TNH4',\n",
       " 'Ca',\n",
       " 'Mg',\n",
       " 'Na',\n",
       " 'K',\n",
       " 'Cl',\n",
       " 'NSO4',\n",
       " 'NHNO3',\n",
       " 'WSO2',\n",
       " 'TOTAL_SO2',\n",
       " 'FLOW_VOLUME',\n",
       " 'VALID_HOURS',\n",
       " 'STD2LOCAL_CF',\n",
       " 'SITE_ID_CON186',\n",
       " 'SITE_ID_DEV412',\n",
       " 'SITE_ID_JOT403',\n",
       " 'SITE_ID_LAV410',\n",
       " 'SITE_ID_PIN414',\n",
       " 'SITE_ID_SEK402',\n",
       " 'SITE_ID_SEK430',\n",
       " 'SITE_ID_YOS404',\n",
       " 'QA_CODE_1',\n",
       " 'QA_CODE_3',\n",
       " 'TEMP_SOURCE_mo',\n",
       " 'TEMP_SOURCE_sa',\n",
       " 'TEMP_SOURCE_se',\n",
       " 'TEMP_SOURCE_wk',\n",
       " 'week',\n",
       " 'mnth',\n",
       " 'code_miss']"
      ]
     },
     "execution_count": 37,
     "metadata": {},
     "output_type": "execute_result"
    }
   ],
   "source": [
    "num_cols = [col for col in df.select_dtypes(include=['uint8','float64','int64']).columns if col not in [TARGET_COL]]\n",
    "num_cols"
   ]
  },
  {
   "cell_type": "code",
   "execution_count": 38,
   "metadata": {},
   "outputs": [],
   "source": [
    "# plt.figure(figsize=(16,10))\n",
    "# sns.heatmap(train[num_cols].corr(),annot=True)"
   ]
  },
  {
   "cell_type": "code",
   "execution_count": 39,
   "metadata": {},
   "outputs": [],
   "source": [
    "train = df[:train.shape[0]]\n",
    "test = df[train.shape[0]:]"
   ]
  },
  {
   "cell_type": "code",
   "execution_count": 40,
   "metadata": {},
   "outputs": [
    {
     "data": {
      "text/plain": [
       "((6159, 37), (996, 37))"
      ]
     },
     "execution_count": 40,
     "metadata": {},
     "output_type": "execute_result"
    }
   ],
   "source": [
    "train.shape ,test.shape"
   ]
  },
  {
   "cell_type": "code",
   "execution_count": 41,
   "metadata": {},
   "outputs": [
    {
     "data": {
      "text/plain": [
       "TSO4                 0\n",
       "TNO3                 0\n",
       "TNH4                 0\n",
       "Ca                1223\n",
       "Mg                1223\n",
       "Na                1223\n",
       "K                 1227\n",
       "Cl                2297\n",
       "NSO4                 0\n",
       "NHNO3                0\n",
       "WSO2                 0\n",
       "TOTAL_SO2            0\n",
       "FLOW_VOLUME          0\n",
       "VALID_HOURS          0\n",
       "STD2LOCAL_CF         0\n",
       "SITE_ID_CON186       0\n",
       "SITE_ID_DEV412       0\n",
       "SITE_ID_JOT403       0\n",
       "SITE_ID_LAV410       0\n",
       "SITE_ID_PIN414       0\n",
       "SITE_ID_SEK402       0\n",
       "SITE_ID_SEK430       0\n",
       "SITE_ID_YOS404       0\n",
       "QA_CODE_1            0\n",
       "QA_CODE_3            0\n",
       "TEMP_SOURCE_mo       0\n",
       "TEMP_SOURCE_sa       0\n",
       "TEMP_SOURCE_se       0\n",
       "TEMP_SOURCE_wk       0\n",
       "week                 0\n",
       "mnth                 0\n",
       "code_miss            0\n",
       "dtype: int64"
      ]
     },
     "execution_count": 41,
     "metadata": {},
     "output_type": "execute_result"
    }
   ],
   "source": [
    "train[num_cols].isnull().sum()"
   ]
  },
  {
   "cell_type": "code",
   "execution_count": 42,
   "metadata": {},
   "outputs": [],
   "source": [
    "missing_cols = ['Ca','Mg','Na','K','Cl']"
   ]
  },
  {
   "cell_type": "code",
   "execution_count": 43,
   "metadata": {},
   "outputs": [
    {
     "name": "stderr",
     "output_type": "stream",
     "text": [
      "/opt/conda/lib/python3.6/site-packages/ipykernel_launcher.py:2: SettingWithCopyWarning: \n",
      "A value is trying to be set on a copy of a slice from a DataFrame.\n",
      "Try using .loc[row_indexer,col_indexer] = value instead\n",
      "\n",
      "See the caveats in the documentation: http://pandas.pydata.org/pandas-docs/stable/indexing.html#indexing-view-versus-copy\n",
      "  \n"
     ]
    }
   ],
   "source": [
    "for col in missing_cols:\n",
    "    train[col] = train[col].fillna(train2.groupby([\"SITE_ID\"])[col].transform('median'))"
   ]
  },
  {
   "cell_type": "code",
   "execution_count": 44,
   "metadata": {},
   "outputs": [
    {
     "data": {
      "text/plain": [
       "TSO4              0\n",
       "TNO3              0\n",
       "TNH4              0\n",
       "Ca                0\n",
       "Mg                0\n",
       "Na                0\n",
       "K                 0\n",
       "Cl                0\n",
       "NSO4              0\n",
       "NHNO3             0\n",
       "WSO2              0\n",
       "TOTAL_SO2         0\n",
       "FLOW_VOLUME       0\n",
       "VALID_HOURS       0\n",
       "STD2LOCAL_CF      0\n",
       "SITE_ID_CON186    0\n",
       "SITE_ID_DEV412    0\n",
       "SITE_ID_JOT403    0\n",
       "SITE_ID_LAV410    0\n",
       "SITE_ID_PIN414    0\n",
       "SITE_ID_SEK402    0\n",
       "SITE_ID_SEK430    0\n",
       "SITE_ID_YOS404    0\n",
       "QA_CODE_1         0\n",
       "QA_CODE_3         0\n",
       "TEMP_SOURCE_mo    0\n",
       "TEMP_SOURCE_sa    0\n",
       "TEMP_SOURCE_se    0\n",
       "TEMP_SOURCE_wk    0\n",
       "week              0\n",
       "mnth              0\n",
       "code_miss         0\n",
       "dtype: int64"
      ]
     },
     "execution_count": 44,
     "metadata": {},
     "output_type": "execute_result"
    }
   ],
   "source": [
    "# train['TEMP_SOURCE']=train2['TEMP_SOURCE']\n",
    "# train = pd.get_dummies(train,columns=['TEMP_SOURCE'])\n",
    "test[num_cols].isnull().sum()"
   ]
  },
  {
   "cell_type": "code",
   "execution_count": 45,
   "metadata": {},
   "outputs": [],
   "source": [
    "# train.drop(columns=['Week'],inplace=True)"
   ]
  },
  {
   "cell_type": "code",
   "execution_count": 58,
   "metadata": {},
   "outputs": [
    {
     "data": {
      "text/plain": [
       "((5235, 32), (924, 32))"
      ]
     },
     "execution_count": 58,
     "metadata": {},
     "output_type": "execute_result"
    }
   ],
   "source": [
    "from sklearn.ensemble import RandomForestRegressor\n",
    "from sklearn.metrics import mean_squared_error\n",
    "from sklearn.model_selection import train_test_split,cross_val_score\n",
    "\n",
    "X_train,X_val,y_train,y_val = train_test_split(train[num_cols],train2[TARGET_COL],test_size=0.15,random_state=42)\n",
    "X_train.shape , X_val.shape"
   ]
  },
  {
   "cell_type": "code",
   "execution_count": 59,
   "metadata": {},
   "outputs": [],
   "source": [
    "# train[num_cols].isnull().sum()\n",
    "def sse(actuals,preds):\n",
    "    return np.sum((actuals-preds)**2)"
   ]
  },
  {
   "cell_type": "code",
   "execution_count": 60,
   "metadata": {},
   "outputs": [
    {
     "name": "stderr",
     "output_type": "stream",
     "text": [
      "/opt/conda/lib/python3.6/site-packages/sklearn/ensemble/forest.py:245: FutureWarning: The default value of n_estimators will change from 10 in version 0.20 to 100 in 0.22.\n",
      "  \"10 in version 0.20 to 100 in 0.22.\", FutureWarning)\n"
     ]
    },
    {
     "name": "stdout",
     "output_type": "stream",
     "text": [
      "RMSE is:  97.57555238682716\n"
     ]
    }
   ],
   "source": [
    "rf = RandomForestRegressor(random_state=42,max_depth=4)\n",
    "rf.fit(X_train,y_train)\n",
    "pred = rf.predict(X_val)\n",
    "print(\"RMSE is: \",sse(y_val,pred))"
   ]
  },
  {
   "cell_type": "code",
   "execution_count": 61,
   "metadata": {},
   "outputs": [
    {
     "name": "stderr",
     "output_type": "stream",
     "text": [
      "/opt/conda/lib/python3.6/site-packages/xgboost/core.py:587: FutureWarning: Series.base is deprecated and will be removed in a future version\n",
      "  if getattr(data, 'base', None) is not None and \\\n"
     ]
    },
    {
     "name": "stdout",
     "output_type": "stream",
     "text": [
      "[22:27:45] WARNING: src/objective/regression_obj.cu:152: reg:linear is now deprecated in favor of reg:squarederror.\n",
      "RMSE is:  139.3236560785337\n"
     ]
    }
   ],
   "source": [
    "from xgboost import XGBRegressor\n",
    "xgb =XGBRegressor(n_estimators=20 ,max_depth=3)\n",
    "xgb.fit(X_train,y_train)\n",
    "pred = xgb.predict(X_val)\n",
    "print(\"RMSE is: \",sse(y_val,pred))"
   ]
  },
  {
   "cell_type": "code",
   "execution_count": 62,
   "metadata": {},
   "outputs": [
    {
     "name": "stdout",
     "output_type": "stream",
     "text": [
      "RMSE is:  115.82504871109059\n"
     ]
    }
   ],
   "source": [
    "from lightgbm import LGBMRegressor\n",
    "lgb =LGBMRegressor(n_estimators = 20, max_depth=3)\n",
    "lgb.fit(X_train,y_train)\n",
    "pred = lgb.predict(X_val)\n",
    "print(\"RMSE is: \",sse(y_val,pred))"
   ]
  },
  {
   "cell_type": "code",
   "execution_count": 65,
   "metadata": {},
   "outputs": [
    {
     "name": "stdout",
     "output_type": "stream",
     "text": [
      "RMSE is:  2.2193386489456857e-06\n"
     ]
    }
   ],
   "source": [
    "from sklearn.linear_model import LinearRegression\n",
    "lr = LinearRegression()\n",
    "lr.fit(X_train,y_train)\n",
    "pred = lr.predict(X_val)\n",
    "print(\"RMSE is: \",sse(y_val,pred))"
   ]
  },
  {
   "cell_type": "code",
   "execution_count": 64,
   "metadata": {},
   "outputs": [
    {
     "name": "stdout",
     "output_type": "stream",
     "text": [
      "RMSE is:  162.05213726896602\n"
     ]
    }
   ],
   "source": [
    "from sklearn.tree import DecisionTreeRegressor\n",
    "dtree = DecisionTreeRegressor(max_depth=4)\n",
    "dtree.fit(X_train,y_train)\n",
    "pred = dtree.predict(X_val)\n",
    "print(\"RMSE is: \",sse(y_val,pred))"
   ]
  },
  {
   "cell_type": "code",
   "execution_count": 66,
   "metadata": {},
   "outputs": [
    {
     "data": {
      "text/plain": [
       "Index(['TSO4', 'TNO3', 'TNH4', 'Ca', 'Mg', 'Na', 'K', 'Cl', 'NSO4', 'NHNO3',\n",
       "       'WSO2', 'TOTAL_SO2', 'FLOW_VOLUME', 'VALID_HOURS', 'STD2LOCAL_CF',\n",
       "       'SITE_ID_CON186', 'SITE_ID_DEV412', 'SITE_ID_JOT403', 'SITE_ID_LAV410',\n",
       "       'SITE_ID_PIN414', 'SITE_ID_SEK402', 'SITE_ID_SEK430', 'SITE_ID_YOS404',\n",
       "       'QA_CODE_1', 'QA_CODE_3', 'TEMP_SOURCE_mo', 'TEMP_SOURCE_sa',\n",
       "       'TEMP_SOURCE_se', 'TEMP_SOURCE_wk', 'week', 'mnth', 'code_miss'],\n",
       "      dtype='object')"
      ]
     },
     "execution_count": 66,
     "metadata": {},
     "output_type": "execute_result"
    }
   ],
   "source": [
    "X_train.columns"
   ]
  },
  {
   "cell_type": "code",
   "execution_count": 67,
   "metadata": {},
   "outputs": [
    {
     "name": "stdout",
     "output_type": "stream",
     "text": [
      "RMSE is:  1.4895766312093197e-05\n"
     ]
    }
   ],
   "source": [
    "best_model = lr\n",
    "pred = lr.predict(train[num_cols])\n",
    "print(\"RMSE is: \",sse(train2[TARGET_COL],pred))"
   ]
  },
  {
   "cell_type": "code",
   "execution_count": 68,
   "metadata": {},
   "outputs": [],
   "source": [
    "best_model = lr\n",
    "test_preds = lr.predict(test[num_cols])"
   ]
  },
  {
   "cell_type": "code",
   "execution_count": 69,
   "metadata": {},
   "outputs": [
    {
     "data": {
      "text/plain": [
       "(996,)"
      ]
     },
     "execution_count": 69,
     "metadata": {},
     "output_type": "execute_result"
    }
   ],
   "source": [
    "test_preds.shape"
   ]
  },
  {
   "cell_type": "code",
   "execution_count": 70,
   "metadata": {},
   "outputs": [
    {
     "data": {
      "text/plain": [
       "(996, 37)"
      ]
     },
     "execution_count": 70,
     "metadata": {},
     "output_type": "execute_result"
    }
   ],
   "source": [
    "test.shape"
   ]
  },
  {
   "cell_type": "code",
   "execution_count": 71,
   "metadata": {},
   "outputs": [
    {
     "data": {
      "text/plain": [
       "(996, 22)"
      ]
     },
     "execution_count": 71,
     "metadata": {},
     "output_type": "execute_result"
    }
   ],
   "source": [
    "test2 = pd.read_csv(\"./Data/test.csv\")\n",
    "test2.shape"
   ]
  },
  {
   "cell_type": "code",
   "execution_count": 72,
   "metadata": {},
   "outputs": [
    {
     "data": {
      "text/html": [
       "<div>\n",
       "<style scoped>\n",
       "    .dataframe tbody tr th:only-of-type {\n",
       "        vertical-align: middle;\n",
       "    }\n",
       "\n",
       "    .dataframe tbody tr th {\n",
       "        vertical-align: top;\n",
       "    }\n",
       "\n",
       "    .dataframe thead th {\n",
       "        text-align: right;\n",
       "    }\n",
       "</style>\n",
       "<table border=\"1\" class=\"dataframe\">\n",
       "  <thead>\n",
       "    <tr style=\"text-align: right;\">\n",
       "      <th></th>\n",
       "      <th>SITE_ID</th>\n",
       "      <th>DATEON</th>\n",
       "      <th>TOTAL_NO3</th>\n",
       "    </tr>\n",
       "  </thead>\n",
       "  <tbody>\n",
       "    <tr>\n",
       "      <th>0</th>\n",
       "      <td>CON186</td>\n",
       "      <td>2003-08-26</td>\n",
       "      <td>7.268051</td>\n",
       "    </tr>\n",
       "    <tr>\n",
       "      <th>1</th>\n",
       "      <td>CON186</td>\n",
       "      <td>2004-04-27</td>\n",
       "      <td>4.015095</td>\n",
       "    </tr>\n",
       "    <tr>\n",
       "      <th>2</th>\n",
       "      <td>CON186</td>\n",
       "      <td>2004-07-27</td>\n",
       "      <td>5.217186</td>\n",
       "    </tr>\n",
       "    <tr>\n",
       "      <th>3</th>\n",
       "      <td>CON186</td>\n",
       "      <td>2007-12-18</td>\n",
       "      <td>0.629676</td>\n",
       "    </tr>\n",
       "    <tr>\n",
       "      <th>4</th>\n",
       "      <td>CON186</td>\n",
       "      <td>2010-10-12</td>\n",
       "      <td>0.995219</td>\n",
       "    </tr>\n",
       "  </tbody>\n",
       "</table>\n",
       "</div>"
      ],
      "text/plain": [
       "  SITE_ID      DATEON  TOTAL_NO3\n",
       "0  CON186  2003-08-26   7.268051\n",
       "1  CON186  2004-04-27   4.015095\n",
       "2  CON186  2004-07-27   5.217186\n",
       "3  CON186  2007-12-18   0.629676\n",
       "4  CON186  2010-10-12   0.995219"
      ]
     },
     "execution_count": 72,
     "metadata": {},
     "output_type": "execute_result"
    }
   ],
   "source": [
    "res=pd.DataFrame({\"SITE_ID\":test2[\"SITE_ID\"],\"DATEON\":test2[\"DATEON\"],TARGET_COL: test_preds})\n",
    "res.head()"
   ]
  },
  {
   "cell_type": "code",
   "execution_count": 73,
   "metadata": {},
   "outputs": [],
   "source": [
    "res.to_csv(\"submission_lr.csv\",index=False)"
   ]
  },
  {
   "cell_type": "code",
   "execution_count": null,
   "metadata": {},
   "outputs": [],
   "source": []
  }
 ],
 "metadata": {
  "kernelspec": {
   "display_name": "Python 3",
   "language": "python",
   "name": "python3"
  },
  "language_info": {
   "codemirror_mode": {
    "name": "ipython",
    "version": 3
   },
   "file_extension": ".py",
   "mimetype": "text/x-python",
   "name": "python",
   "nbconvert_exporter": "python",
   "pygments_lexer": "ipython3",
   "version": "3.6.10"
  }
 },
 "nbformat": 4,
 "nbformat_minor": 4
}
